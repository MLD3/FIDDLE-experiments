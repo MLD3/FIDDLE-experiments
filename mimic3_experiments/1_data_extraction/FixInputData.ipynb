{
 "cells": [
  {
   "cell_type": "code",
   "execution_count": 1,
   "id": "social-redhead",
   "metadata": {},
   "outputs": [],
   "source": [
    "import pandas as pd"
   ]
  },
  {
   "cell_type": "markdown",
   "id": "fluid-vertical",
   "metadata": {},
   "source": [
    "## ARF 4h"
   ]
  },
  {
   "cell_type": "code",
   "execution_count": null,
   "id": "spatial-animation",
   "metadata": {},
   "outputs": [],
   "source": [
    "!mv '../data/processed/features/outcome=ARF,T=4.0,dt=1.0/input_data.p' '../data/processed/features/outcome=ARF,T=4.0,dt=1.0/input_data_orig.p'"
   ]
  },
  {
   "cell_type": "code",
   "execution_count": 2,
   "id": "structural-table",
   "metadata": {},
   "outputs": [],
   "source": [
    "df_data = pd.read_pickle('../data/processed/features/outcome=ARF,T=4.0,dt=1.0/input_data_orig.p')"
   ]
  },
  {
   "cell_type": "code",
   "execution_count": 3,
   "id": "capable-enclosure",
   "metadata": {},
   "outputs": [],
   "source": [
    "mask = df_data['variable_name'].str.startswith('227727') | df_data['variable_name'].str.startswith('227362') | df_data['variable_name'].str.startswith('227723')"
   ]
  },
  {
   "cell_type": "code",
   "execution_count": 4,
   "id": "sophisticated-samuel",
   "metadata": {},
   "outputs": [],
   "source": [
    "df_data.loc[mask, 'variable_value'] = df_data.loc[mask, 'variable_value'].apply(pd.to_numeric, errors='ignore')"
   ]
  },
  {
   "cell_type": "code",
   "execution_count": 5,
   "id": "domestic-landing",
   "metadata": {},
   "outputs": [],
   "source": [
    "df_data.to_pickle('../data/processed/features/outcome=ARF,T=4.0,dt=1.0/input_data.p')"
   ]
  },
  {
   "cell_type": "markdown",
   "id": "blond-glenn",
   "metadata": {},
   "source": [
    "## ARF 12h"
   ]
  },
  {
   "cell_type": "code",
   "execution_count": null,
   "id": "explicit-donor",
   "metadata": {},
   "outputs": [],
   "source": [
    "!mv '../data/processed/features/outcome=ARF,T=12.0,dt=1.0/input_data.p' '../data/processed/features/outcome=ARF,T=12.0,dt=1.0/input_data_orig.p'"
   ]
  },
  {
   "cell_type": "code",
   "execution_count": 6,
   "id": "colored-conclusion",
   "metadata": {},
   "outputs": [],
   "source": [
    "df_data = pd.read_pickle('../data/processed/features/outcome=ARF,T=12.0,dt=1.0/input_data_orig.p')"
   ]
  },
  {
   "cell_type": "code",
   "execution_count": 7,
   "id": "compound-tractor",
   "metadata": {},
   "outputs": [],
   "source": [
    "mask = (\n",
    "    # missing bin\n",
    "    df_data['variable_name'].str.startswith('224956') |\n",
    "    df_data['variable_name'].str.startswith('226184') |\n",
    "    df_data['variable_name'].str.startswith('51269') |\n",
    "    df_data['variable_name'].str.startswith('51363') |\n",
    "    # 1/1.0\n",
    "    df_data['variable_name'].str.startswith('225981') |\n",
    "    df_data['variable_name'].str.startswith('227350') |\n",
    "    df_data['variable_name'].str.startswith('227351') |\n",
    "    df_data['variable_name'].str.startswith('227353') |\n",
    "    df_data['variable_name'].str.startswith('227355') |\n",
    "    # 0/0.0\n",
    "    df_data['variable_name'].str.startswith('228233')\n",
    ")"
   ]
  },
  {
   "cell_type": "code",
   "execution_count": 8,
   "id": "distributed-volleyball",
   "metadata": {},
   "outputs": [],
   "source": [
    "df_data.loc[mask, 'variable_value'] = df_data.loc[mask, 'variable_value'].apply(pd.to_numeric, errors='ignore')"
   ]
  },
  {
   "cell_type": "code",
   "execution_count": 9,
   "id": "outer-profit",
   "metadata": {},
   "outputs": [],
   "source": [
    "df_data.to_pickle('../data/processed/features/outcome=ARF,T=12.0,dt=1.0/input_data.p')"
   ]
  },
  {
   "cell_type": "markdown",
   "id": "unsigned-edwards",
   "metadata": {},
   "source": [
    "## Shock 4h: no change"
   ]
  },
  {
   "cell_type": "markdown",
   "id": "studied-submission",
   "metadata": {},
   "source": [
    "## Shock 12h: no change"
   ]
  },
  {
   "cell_type": "markdown",
   "id": "moved-chicago",
   "metadata": {},
   "source": [
    "## benchmark in-hospital mortality 48h"
   ]
  },
  {
   "cell_type": "code",
   "execution_count": 2,
   "id": "reasonable-robertson",
   "metadata": {},
   "outputs": [],
   "source": [
    "!mv '../data/processed/features/benchmark,outcome=mortality,T=48.0,dt=1.0/input_data.p' '../data/processed/features/benchmark,outcome=mortality,T=48.0,dt=1.0/input_data_orig.p'"
   ]
  },
  {
   "cell_type": "code",
   "execution_count": 3,
   "id": "incident-farmer",
   "metadata": {},
   "outputs": [],
   "source": [
    "df_data = pd.read_pickle('../data/processed/features/benchmark,outcome=mortality,T=48.0,dt=1.0/input_data_orig.p')"
   ]
  },
  {
   "cell_type": "code",
   "execution_count": 4,
   "id": "married-guess",
   "metadata": {},
   "outputs": [],
   "source": [
    "mask = (\n",
    "    # missing bin\n",
    "    df_data['variable_name'].str.startswith('227520') |\n",
    "    df_data['variable_name'].str.startswith('227581') |\n",
    "    df_data['variable_name'].str.startswith('227873') |\n",
    "    df_data['variable_name'].str.startswith('51344') |\n",
    "    # 1/1.0\n",
    "    df_data['variable_name'].str.startswith('225981') |\n",
    "    # 0/0.0\n",
    "    df_data['variable_name'].str.startswith('226120') |\n",
    "    df_data['variable_name'].str.startswith('226122') |\n",
    "    df_data['variable_name'].str.startswith('227727')\n",
    ")"
   ]
  },
  {
   "cell_type": "code",
   "execution_count": 5,
   "id": "brave-macedonia",
   "metadata": {},
   "outputs": [],
   "source": [
    "df_data.loc[mask, 'variable_value'] = df_data.loc[mask, 'variable_value'].apply(pd.to_numeric, errors='ignore')"
   ]
  },
  {
   "cell_type": "code",
   "execution_count": 6,
   "id": "continent-federal",
   "metadata": {},
   "outputs": [],
   "source": [
    "df_data.to_pickle('../data/processed/features/benchmark,outcome=mortality,T=48.0,dt=1.0/input_data.p')"
   ]
  },
  {
   "cell_type": "code",
   "execution_count": null,
   "id": "dependent-territory",
   "metadata": {},
   "outputs": [],
   "source": []
  }
 ],
 "metadata": {
  "kernelspec": {
   "display_name": "FIDDLE-py36",
   "language": "python",
   "name": "fiddle-py36"
  },
  "language_info": {
   "codemirror_mode": {
    "name": "ipython",
    "version": 3
   },
   "file_extension": ".py",
   "mimetype": "text/x-python",
   "name": "python",
   "nbconvert_exporter": "python",
   "pygments_lexer": "ipython3",
   "version": "3.6.13"
  }
 },
 "nbformat": 4,
 "nbformat_minor": 5
}
