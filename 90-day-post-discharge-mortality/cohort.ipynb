{
 "cells": [
  {
   "cell_type": "code",
   "execution_count": 1,
   "metadata": {},
   "outputs": [],
   "source": [
    "import pandas as pd\n",
    "import numpy as np\n",
    "import datetime"
   ]
  },
  {
   "cell_type": "markdown",
   "metadata": {},
   "source": [
    "## Study population for 90-day post-discharge mortality prediction"
   ]
  },
  {
   "cell_type": "code",
   "execution_count": 3,
   "metadata": {},
   "outputs": [],
   "source": [
    "icustays_MV = pd.read_csv('/data4/tangsp/FIDDLE/mimic3_experiments/data/processed/prep/icustays_MV.csv')"
   ]
  },
  {
   "cell_type": "code",
   "execution_count": 4,
   "metadata": {},
   "outputs": [],
   "source": [
    "mimic3_path = '/data/mimic3/'\n",
    "admission = pd.read_csv(mimic3_path+\"ADMISSIONS.csv\")\n",
    "patients = pd.read_csv(mimic3_path+\"PATIENTS.csv\")"
   ]
  },
  {
   "cell_type": "code",
   "execution_count": 5,
   "metadata": {},
   "outputs": [],
   "source": [
    "# already split data partitions at patient level\n",
    "splits = icustays_MV[['SUBJECT_ID', 'partition']].drop_duplicates()"
   ]
  },
  {
   "cell_type": "code",
   "execution_count": 6,
   "metadata": {},
   "outputs": [],
   "source": [
    "admissions_MV = admission[admission['HADM_ID'].isin(icustays_MV['HADM_ID'].unique())]"
   ]
  },
  {
   "cell_type": "code",
   "execution_count": 7,
   "metadata": {},
   "outputs": [
    {
     "data": {
      "text/html": [
       "<div>\n",
       "<style scoped>\n",
       "    .dataframe tbody tr th:only-of-type {\n",
       "        vertical-align: middle;\n",
       "    }\n",
       "\n",
       "    .dataframe tbody tr th {\n",
       "        vertical-align: top;\n",
       "    }\n",
       "\n",
       "    .dataframe thead th {\n",
       "        text-align: right;\n",
       "    }\n",
       "</style>\n",
       "<table border=\"1\" class=\"dataframe\">\n",
       "  <thead>\n",
       "    <tr style=\"text-align: right;\">\n",
       "      <th></th>\n",
       "      <th>ROW_ID</th>\n",
       "      <th>SUBJECT_ID</th>\n",
       "      <th>HADM_ID</th>\n",
       "      <th>ADMITTIME</th>\n",
       "      <th>DISCHTIME</th>\n",
       "      <th>DEATHTIME</th>\n",
       "      <th>ADMISSION_TYPE</th>\n",
       "      <th>ADMISSION_LOCATION</th>\n",
       "      <th>DISCHARGE_LOCATION</th>\n",
       "      <th>INSURANCE</th>\n",
       "      <th>LANGUAGE</th>\n",
       "      <th>RELIGION</th>\n",
       "      <th>MARITAL_STATUS</th>\n",
       "      <th>ETHNICITY</th>\n",
       "      <th>EDREGTIME</th>\n",
       "      <th>EDOUTTIME</th>\n",
       "      <th>DIAGNOSIS</th>\n",
       "      <th>HOSPITAL_EXPIRE_FLAG</th>\n",
       "      <th>HAS_CHARTEVENTS_DATA</th>\n",
       "    </tr>\n",
       "  </thead>\n",
       "  <tbody>\n",
       "    <tr>\n",
       "      <th>2</th>\n",
       "      <td>23</td>\n",
       "      <td>23</td>\n",
       "      <td>124321</td>\n",
       "      <td>2157-10-18 19:34:00</td>\n",
       "      <td>2157-10-25 14:00:00</td>\n",
       "      <td>NaN</td>\n",
       "      <td>EMERGENCY</td>\n",
       "      <td>TRANSFER FROM HOSP/EXTRAM</td>\n",
       "      <td>HOME HEALTH CARE</td>\n",
       "      <td>Medicare</td>\n",
       "      <td>ENGL</td>\n",
       "      <td>CATHOLIC</td>\n",
       "      <td>MARRIED</td>\n",
       "      <td>WHITE</td>\n",
       "      <td>NaN</td>\n",
       "      <td>NaN</td>\n",
       "      <td>BRAIN MASS</td>\n",
       "      <td>0</td>\n",
       "      <td>1</td>\n",
       "    </tr>\n",
       "    <tr>\n",
       "      <th>13</th>\n",
       "      <td>34</td>\n",
       "      <td>34</td>\n",
       "      <td>144319</td>\n",
       "      <td>2191-02-23 05:23:00</td>\n",
       "      <td>2191-02-25 20:20:00</td>\n",
       "      <td>NaN</td>\n",
       "      <td>EMERGENCY</td>\n",
       "      <td>CLINIC REFERRAL/PREMATURE</td>\n",
       "      <td>HOME HEALTH CARE</td>\n",
       "      <td>Medicare</td>\n",
       "      <td>ENGL</td>\n",
       "      <td>CATHOLIC</td>\n",
       "      <td>MARRIED</td>\n",
       "      <td>WHITE</td>\n",
       "      <td>2191-02-23 04:23:00</td>\n",
       "      <td>2191-02-23 07:25:00</td>\n",
       "      <td>BRADYCARDIA</td>\n",
       "      <td>0</td>\n",
       "      <td>1</td>\n",
       "    </tr>\n",
       "    <tr>\n",
       "      <th>17</th>\n",
       "      <td>38</td>\n",
       "      <td>36</td>\n",
       "      <td>165660</td>\n",
       "      <td>2134-05-10 11:30:00</td>\n",
       "      <td>2134-05-20 13:16:00</td>\n",
       "      <td>NaN</td>\n",
       "      <td>ELECTIVE</td>\n",
       "      <td>PHYS REFERRAL/NORMAL DELI</td>\n",
       "      <td>LONG TERM CARE HOSPITAL</td>\n",
       "      <td>Medicare</td>\n",
       "      <td>ENGL</td>\n",
       "      <td>NOT SPECIFIED</td>\n",
       "      <td>MARRIED</td>\n",
       "      <td>WHITE</td>\n",
       "      <td>NaN</td>\n",
       "      <td>NaN</td>\n",
       "      <td>VENTRAL HERNIA/SDA</td>\n",
       "      <td>0</td>\n",
       "      <td>1</td>\n",
       "    </tr>\n",
       "    <tr>\n",
       "      <th>25</th>\n",
       "      <td>459</td>\n",
       "      <td>357</td>\n",
       "      <td>101651</td>\n",
       "      <td>2199-10-20 12:05:00</td>\n",
       "      <td>2199-10-23 17:30:00</td>\n",
       "      <td>NaN</td>\n",
       "      <td>EMERGENCY</td>\n",
       "      <td>EMERGENCY ROOM ADMIT</td>\n",
       "      <td>SNF</td>\n",
       "      <td>Private</td>\n",
       "      <td>ENGL</td>\n",
       "      <td>NOT SPECIFIED</td>\n",
       "      <td>MARRIED</td>\n",
       "      <td>WHITE</td>\n",
       "      <td>2199-10-20 09:34:00</td>\n",
       "      <td>2199-10-20 13:25:00</td>\n",
       "      <td>PNEUMONIA</td>\n",
       "      <td>0</td>\n",
       "      <td>1</td>\n",
       "    </tr>\n",
       "    <tr>\n",
       "      <th>26</th>\n",
       "      <td>460</td>\n",
       "      <td>357</td>\n",
       "      <td>117876</td>\n",
       "      <td>2199-12-21 22:37:00</td>\n",
       "      <td>2200-01-18 11:45:00</td>\n",
       "      <td>NaN</td>\n",
       "      <td>EMERGENCY</td>\n",
       "      <td>EMERGENCY ROOM ADMIT</td>\n",
       "      <td>SNF</td>\n",
       "      <td>Private</td>\n",
       "      <td>ENGL</td>\n",
       "      <td>NOT SPECIFIED</td>\n",
       "      <td>MARRIED</td>\n",
       "      <td>WHITE</td>\n",
       "      <td>2199-12-21 20:38:00</td>\n",
       "      <td>2199-12-22 00:01:00</td>\n",
       "      <td>ALTERED MENTAL STATUS</td>\n",
       "      <td>0</td>\n",
       "      <td>1</td>\n",
       "    </tr>\n",
       "  </tbody>\n",
       "</table>\n",
       "</div>"
      ],
      "text/plain": [
       "    ROW_ID  SUBJECT_ID  HADM_ID            ADMITTIME            DISCHTIME  \\\n",
       "2       23          23   124321  2157-10-18 19:34:00  2157-10-25 14:00:00   \n",
       "13      34          34   144319  2191-02-23 05:23:00  2191-02-25 20:20:00   \n",
       "17      38          36   165660  2134-05-10 11:30:00  2134-05-20 13:16:00   \n",
       "25     459         357   101651  2199-10-20 12:05:00  2199-10-23 17:30:00   \n",
       "26     460         357   117876  2199-12-21 22:37:00  2200-01-18 11:45:00   \n",
       "\n",
       "   DEATHTIME ADMISSION_TYPE         ADMISSION_LOCATION  \\\n",
       "2        NaN      EMERGENCY  TRANSFER FROM HOSP/EXTRAM   \n",
       "13       NaN      EMERGENCY  CLINIC REFERRAL/PREMATURE   \n",
       "17       NaN       ELECTIVE  PHYS REFERRAL/NORMAL DELI   \n",
       "25       NaN      EMERGENCY       EMERGENCY ROOM ADMIT   \n",
       "26       NaN      EMERGENCY       EMERGENCY ROOM ADMIT   \n",
       "\n",
       "         DISCHARGE_LOCATION INSURANCE LANGUAGE       RELIGION MARITAL_STATUS  \\\n",
       "2          HOME HEALTH CARE  Medicare     ENGL       CATHOLIC        MARRIED   \n",
       "13         HOME HEALTH CARE  Medicare     ENGL       CATHOLIC        MARRIED   \n",
       "17  LONG TERM CARE HOSPITAL  Medicare     ENGL  NOT SPECIFIED        MARRIED   \n",
       "25                      SNF   Private     ENGL  NOT SPECIFIED        MARRIED   \n",
       "26                      SNF   Private     ENGL  NOT SPECIFIED        MARRIED   \n",
       "\n",
       "   ETHNICITY            EDREGTIME            EDOUTTIME              DIAGNOSIS  \\\n",
       "2      WHITE                  NaN                  NaN             BRAIN MASS   \n",
       "13     WHITE  2191-02-23 04:23:00  2191-02-23 07:25:00            BRADYCARDIA   \n",
       "17     WHITE                  NaN                  NaN     VENTRAL HERNIA/SDA   \n",
       "25     WHITE  2199-10-20 09:34:00  2199-10-20 13:25:00              PNEUMONIA   \n",
       "26     WHITE  2199-12-21 20:38:00  2199-12-22 00:01:00  ALTERED MENTAL STATUS   \n",
       "\n",
       "    HOSPITAL_EXPIRE_FLAG  HAS_CHARTEVENTS_DATA  \n",
       "2                      0                     1  \n",
       "13                     0                     1  \n",
       "17                     0                     1  \n",
       "25                     0                     1  \n",
       "26                     0                     1  "
      ]
     },
     "execution_count": 7,
     "metadata": {},
     "output_type": "execute_result"
    }
   ],
   "source": [
    "admissions_MV.head()"
   ]
  },
  {
   "cell_type": "code",
   "execution_count": 8,
   "metadata": {},
   "outputs": [
    {
     "data": {
      "text/plain": [
       "array(['DEAD/EXPIRED'], dtype=object)"
      ]
     },
     "execution_count": 8,
     "metadata": {},
     "output_type": "execute_result"
    }
   ],
   "source": [
    "admissions_MV.loc[admissions_MV['HOSPITAL_EXPIRE_FLAG'] == 1, 'DISCHARGE_LOCATION'].unique()"
   ]
  },
  {
   "cell_type": "code",
   "execution_count": 9,
   "metadata": {},
   "outputs": [
    {
     "name": "stdout",
     "output_type": "stream",
     "text": [
      "Admissions MV, N = 22046\n",
      "Deaths at discharge:  2323\n",
      "Survival at discharge:  19723\n"
     ]
    }
   ],
   "source": [
    "examples = admissions_MV[['SUBJECT_ID','HADM_ID', 'HOSPITAL_EXPIRE_FLAG', 'ADMITTIME', 'DISCHTIME', 'DEATHTIME']]\n",
    "print('Admissions MV, N =', len(examples))\n",
    "\n",
    "# Remove deaths at discharge\n",
    "deaths = examples[examples['HOSPITAL_EXPIRE_FLAG'] == 1]\n",
    "examples = examples[examples['HOSPITAL_EXPIRE_FLAG'] != 1]\n",
    "print('Deaths at discharge: ', len(deaths))\n",
    "print('Survival at discharge: ', len(examples))"
   ]
  },
  {
   "cell_type": "code",
   "execution_count": 10,
   "metadata": {},
   "outputs": [
    {
     "data": {
      "text/html": [
       "<div>\n",
       "<style scoped>\n",
       "    .dataframe tbody tr th:only-of-type {\n",
       "        vertical-align: middle;\n",
       "    }\n",
       "\n",
       "    .dataframe tbody tr th {\n",
       "        vertical-align: top;\n",
       "    }\n",
       "\n",
       "    .dataframe thead th {\n",
       "        text-align: right;\n",
       "    }\n",
       "</style>\n",
       "<table border=\"1\" class=\"dataframe\">\n",
       "  <thead>\n",
       "    <tr style=\"text-align: right;\">\n",
       "      <th></th>\n",
       "      <th>SUBJECT_ID</th>\n",
       "      <th>HADM_ID</th>\n",
       "      <th>HOSPITAL_EXPIRE_FLAG</th>\n",
       "      <th>ADMITTIME</th>\n",
       "      <th>DISCHTIME</th>\n",
       "      <th>DEATHTIME</th>\n",
       "    </tr>\n",
       "  </thead>\n",
       "  <tbody>\n",
       "    <tr>\n",
       "      <th>2</th>\n",
       "      <td>23</td>\n",
       "      <td>124321</td>\n",
       "      <td>0</td>\n",
       "      <td>2157-10-18 19:34:00</td>\n",
       "      <td>2157-10-25 14:00:00</td>\n",
       "      <td>NaN</td>\n",
       "    </tr>\n",
       "    <tr>\n",
       "      <th>13</th>\n",
       "      <td>34</td>\n",
       "      <td>144319</td>\n",
       "      <td>0</td>\n",
       "      <td>2191-02-23 05:23:00</td>\n",
       "      <td>2191-02-25 20:20:00</td>\n",
       "      <td>NaN</td>\n",
       "    </tr>\n",
       "    <tr>\n",
       "      <th>17</th>\n",
       "      <td>36</td>\n",
       "      <td>165660</td>\n",
       "      <td>0</td>\n",
       "      <td>2134-05-10 11:30:00</td>\n",
       "      <td>2134-05-20 13:16:00</td>\n",
       "      <td>NaN</td>\n",
       "    </tr>\n",
       "    <tr>\n",
       "      <th>25</th>\n",
       "      <td>357</td>\n",
       "      <td>101651</td>\n",
       "      <td>0</td>\n",
       "      <td>2199-10-20 12:05:00</td>\n",
       "      <td>2199-10-23 17:30:00</td>\n",
       "      <td>NaN</td>\n",
       "    </tr>\n",
       "    <tr>\n",
       "      <th>26</th>\n",
       "      <td>357</td>\n",
       "      <td>117876</td>\n",
       "      <td>0</td>\n",
       "      <td>2199-12-21 22:37:00</td>\n",
       "      <td>2200-01-18 11:45:00</td>\n",
       "      <td>NaN</td>\n",
       "    </tr>\n",
       "  </tbody>\n",
       "</table>\n",
       "</div>"
      ],
      "text/plain": [
       "    SUBJECT_ID  HADM_ID  HOSPITAL_EXPIRE_FLAG            ADMITTIME  \\\n",
       "2           23   124321                     0  2157-10-18 19:34:00   \n",
       "13          34   144319                     0  2191-02-23 05:23:00   \n",
       "17          36   165660                     0  2134-05-10 11:30:00   \n",
       "25         357   101651                     0  2199-10-20 12:05:00   \n",
       "26         357   117876                     0  2199-12-21 22:37:00   \n",
       "\n",
       "              DISCHTIME DEATHTIME  \n",
       "2   2157-10-25 14:00:00       NaN  \n",
       "13  2191-02-25 20:20:00       NaN  \n",
       "17  2134-05-20 13:16:00       NaN  \n",
       "25  2199-10-23 17:30:00       NaN  \n",
       "26  2200-01-18 11:45:00       NaN  "
      ]
     },
     "execution_count": 10,
     "metadata": {},
     "output_type": "execute_result"
    }
   ],
   "source": [
    "examples.head()"
   ]
  },
  {
   "cell_type": "code",
   "execution_count": 11,
   "metadata": {},
   "outputs": [],
   "source": [
    "examples_splits = examples.merge(splits)\n",
    "examples_splits.to_csv('data/population.csv', index=False)"
   ]
  },
  {
   "cell_type": "markdown",
   "metadata": {},
   "source": [
    "## Get labels"
   ]
  },
  {
   "cell_type": "markdown",
   "metadata": {},
   "source": [
    "### Hospital stay length"
   ]
  },
  {
   "cell_type": "code",
   "execution_count": 11,
   "metadata": {},
   "outputs": [],
   "source": [
    "examples.iloc[:, 3:7] = examples.iloc[:, 3:7].apply(pd.to_datetime)"
   ]
  },
  {
   "cell_type": "code",
   "execution_count": 12,
   "metadata": {},
   "outputs": [],
   "source": [
    "los = (examples['DISCHTIME'] - examples['ADMITTIME'])"
   ]
  },
  {
   "cell_type": "code",
   "execution_count": 13,
   "metadata": {},
   "outputs": [
    {
     "data": {
      "text/plain": [
       "Timedelta('169 days 04:30:00')"
      ]
     },
     "execution_count": 13,
     "metadata": {},
     "output_type": "execute_result"
    }
   ],
   "source": [
    "los.max()"
   ]
  },
  {
   "cell_type": "markdown",
   "metadata": {},
   "source": [
    "### 90-day mortality post-discharge"
   ]
  },
  {
   "cell_type": "code",
   "execution_count": 14,
   "metadata": {},
   "outputs": [],
   "source": [
    "df = examples.merge(patients[['SUBJECT_ID', 'DOD']])\n",
    "df['DOD'] = df['DOD'].apply(pd.to_datetime)"
   ]
  },
  {
   "cell_type": "code",
   "execution_count": 15,
   "metadata": {},
   "outputs": [
    {
     "data": {
      "text/html": [
       "<div>\n",
       "<style scoped>\n",
       "    .dataframe tbody tr th:only-of-type {\n",
       "        vertical-align: middle;\n",
       "    }\n",
       "\n",
       "    .dataframe tbody tr th {\n",
       "        vertical-align: top;\n",
       "    }\n",
       "\n",
       "    .dataframe thead th {\n",
       "        text-align: right;\n",
       "    }\n",
       "</style>\n",
       "<table border=\"1\" class=\"dataframe\">\n",
       "  <thead>\n",
       "    <tr style=\"text-align: right;\">\n",
       "      <th></th>\n",
       "      <th>SUBJECT_ID</th>\n",
       "      <th>HADM_ID</th>\n",
       "      <th>HOSPITAL_EXPIRE_FLAG</th>\n",
       "      <th>ADMITTIME</th>\n",
       "      <th>DISCHTIME</th>\n",
       "      <th>DEATHTIME</th>\n",
       "      <th>DOD</th>\n",
       "    </tr>\n",
       "  </thead>\n",
       "  <tbody>\n",
       "    <tr>\n",
       "      <th>0</th>\n",
       "      <td>23</td>\n",
       "      <td>124321</td>\n",
       "      <td>0</td>\n",
       "      <td>2157-10-18 19:34:00</td>\n",
       "      <td>2157-10-25 14:00:00</td>\n",
       "      <td>NaT</td>\n",
       "      <td>NaT</td>\n",
       "    </tr>\n",
       "    <tr>\n",
       "      <th>1</th>\n",
       "      <td>34</td>\n",
       "      <td>144319</td>\n",
       "      <td>0</td>\n",
       "      <td>2191-02-23 05:23:00</td>\n",
       "      <td>2191-02-25 20:20:00</td>\n",
       "      <td>NaT</td>\n",
       "      <td>2192-01-30</td>\n",
       "    </tr>\n",
       "    <tr>\n",
       "      <th>2</th>\n",
       "      <td>36</td>\n",
       "      <td>165660</td>\n",
       "      <td>0</td>\n",
       "      <td>2134-05-10 11:30:00</td>\n",
       "      <td>2134-05-20 13:16:00</td>\n",
       "      <td>NaT</td>\n",
       "      <td>NaT</td>\n",
       "    </tr>\n",
       "    <tr>\n",
       "      <th>3</th>\n",
       "      <td>357</td>\n",
       "      <td>101651</td>\n",
       "      <td>0</td>\n",
       "      <td>2199-10-20 12:05:00</td>\n",
       "      <td>2199-10-23 17:30:00</td>\n",
       "      <td>NaT</td>\n",
       "      <td>2201-08-02</td>\n",
       "    </tr>\n",
       "    <tr>\n",
       "      <th>4</th>\n",
       "      <td>357</td>\n",
       "      <td>117876</td>\n",
       "      <td>0</td>\n",
       "      <td>2199-12-21 22:37:00</td>\n",
       "      <td>2200-01-18 11:45:00</td>\n",
       "      <td>NaT</td>\n",
       "      <td>2201-08-02</td>\n",
       "    </tr>\n",
       "  </tbody>\n",
       "</table>\n",
       "</div>"
      ],
      "text/plain": [
       "   SUBJECT_ID  HADM_ID  HOSPITAL_EXPIRE_FLAG           ADMITTIME  \\\n",
       "0          23   124321                     0 2157-10-18 19:34:00   \n",
       "1          34   144319                     0 2191-02-23 05:23:00   \n",
       "2          36   165660                     0 2134-05-10 11:30:00   \n",
       "3         357   101651                     0 2199-10-20 12:05:00   \n",
       "4         357   117876                     0 2199-12-21 22:37:00   \n",
       "\n",
       "            DISCHTIME DEATHTIME        DOD  \n",
       "0 2157-10-25 14:00:00       NaT        NaT  \n",
       "1 2191-02-25 20:20:00       NaT 2192-01-30  \n",
       "2 2134-05-20 13:16:00       NaT        NaT  \n",
       "3 2199-10-23 17:30:00       NaT 2201-08-02  \n",
       "4 2200-01-18 11:45:00       NaT 2201-08-02  "
      ]
     },
     "execution_count": 15,
     "metadata": {},
     "output_type": "execute_result"
    }
   ],
   "source": [
    "df.head()"
   ]
  },
  {
   "cell_type": "code",
   "execution_count": 16,
   "metadata": {},
   "outputs": [],
   "source": [
    "df['mortality_day'] = pd.Series(np.where(df['DOD'].isnull(), 0, df['DOD'] - df['DISCHTIME'])).dt.days\n",
    "df['label'] = np.where((df['mortality_day']>0) & (df['mortality_day']<=90), 1, 0)"
   ]
  },
  {
   "cell_type": "code",
   "execution_count": 17,
   "metadata": {},
   "outputs": [
    {
     "data": {
      "text/html": [
       "<div>\n",
       "<style scoped>\n",
       "    .dataframe tbody tr th:only-of-type {\n",
       "        vertical-align: middle;\n",
       "    }\n",
       "\n",
       "    .dataframe tbody tr th {\n",
       "        vertical-align: top;\n",
       "    }\n",
       "\n",
       "    .dataframe thead th {\n",
       "        text-align: right;\n",
       "    }\n",
       "</style>\n",
       "<table border=\"1\" class=\"dataframe\">\n",
       "  <thead>\n",
       "    <tr style=\"text-align: right;\">\n",
       "      <th></th>\n",
       "      <th>SUBJECT_ID</th>\n",
       "      <th>HADM_ID</th>\n",
       "      <th>HOSPITAL_EXPIRE_FLAG</th>\n",
       "      <th>ADMITTIME</th>\n",
       "      <th>DISCHTIME</th>\n",
       "      <th>DEATHTIME</th>\n",
       "      <th>DOD</th>\n",
       "      <th>mortality_day</th>\n",
       "      <th>label</th>\n",
       "    </tr>\n",
       "  </thead>\n",
       "  <tbody>\n",
       "    <tr>\n",
       "      <th>0</th>\n",
       "      <td>23</td>\n",
       "      <td>124321</td>\n",
       "      <td>0</td>\n",
       "      <td>2157-10-18 19:34:00</td>\n",
       "      <td>2157-10-25 14:00:00</td>\n",
       "      <td>NaT</td>\n",
       "      <td>NaT</td>\n",
       "      <td>0</td>\n",
       "      <td>0</td>\n",
       "    </tr>\n",
       "    <tr>\n",
       "      <th>1</th>\n",
       "      <td>34</td>\n",
       "      <td>144319</td>\n",
       "      <td>0</td>\n",
       "      <td>2191-02-23 05:23:00</td>\n",
       "      <td>2191-02-25 20:20:00</td>\n",
       "      <td>NaT</td>\n",
       "      <td>2192-01-30</td>\n",
       "      <td>338</td>\n",
       "      <td>0</td>\n",
       "    </tr>\n",
       "    <tr>\n",
       "      <th>2</th>\n",
       "      <td>36</td>\n",
       "      <td>165660</td>\n",
       "      <td>0</td>\n",
       "      <td>2134-05-10 11:30:00</td>\n",
       "      <td>2134-05-20 13:16:00</td>\n",
       "      <td>NaT</td>\n",
       "      <td>NaT</td>\n",
       "      <td>0</td>\n",
       "      <td>0</td>\n",
       "    </tr>\n",
       "    <tr>\n",
       "      <th>3</th>\n",
       "      <td>357</td>\n",
       "      <td>101651</td>\n",
       "      <td>0</td>\n",
       "      <td>2199-10-20 12:05:00</td>\n",
       "      <td>2199-10-23 17:30:00</td>\n",
       "      <td>NaT</td>\n",
       "      <td>2201-08-02</td>\n",
       "      <td>647</td>\n",
       "      <td>0</td>\n",
       "    </tr>\n",
       "    <tr>\n",
       "      <th>4</th>\n",
       "      <td>357</td>\n",
       "      <td>117876</td>\n",
       "      <td>0</td>\n",
       "      <td>2199-12-21 22:37:00</td>\n",
       "      <td>2200-01-18 11:45:00</td>\n",
       "      <td>NaT</td>\n",
       "      <td>2201-08-02</td>\n",
       "      <td>560</td>\n",
       "      <td>0</td>\n",
       "    </tr>\n",
       "    <tr>\n",
       "      <th>5</th>\n",
       "      <td>85</td>\n",
       "      <td>112077</td>\n",
       "      <td>0</td>\n",
       "      <td>2167-07-25 18:49:00</td>\n",
       "      <td>2167-07-30 15:24:00</td>\n",
       "      <td>NaT</td>\n",
       "      <td>2167-09-12</td>\n",
       "      <td>43</td>\n",
       "      <td>1</td>\n",
       "    </tr>\n",
       "  </tbody>\n",
       "</table>\n",
       "</div>"
      ],
      "text/plain": [
       "   SUBJECT_ID  HADM_ID  HOSPITAL_EXPIRE_FLAG           ADMITTIME  \\\n",
       "0          23   124321                     0 2157-10-18 19:34:00   \n",
       "1          34   144319                     0 2191-02-23 05:23:00   \n",
       "2          36   165660                     0 2134-05-10 11:30:00   \n",
       "3         357   101651                     0 2199-10-20 12:05:00   \n",
       "4         357   117876                     0 2199-12-21 22:37:00   \n",
       "5          85   112077                     0 2167-07-25 18:49:00   \n",
       "\n",
       "            DISCHTIME DEATHTIME        DOD  mortality_day  label  \n",
       "0 2157-10-25 14:00:00       NaT        NaT              0      0  \n",
       "1 2191-02-25 20:20:00       NaT 2192-01-30            338      0  \n",
       "2 2134-05-20 13:16:00       NaT        NaT              0      0  \n",
       "3 2199-10-23 17:30:00       NaT 2201-08-02            647      0  \n",
       "4 2200-01-18 11:45:00       NaT 2201-08-02            560      0  \n",
       "5 2167-07-30 15:24:00       NaT 2167-09-12             43      1  "
      ]
     },
     "execution_count": 17,
     "metadata": {},
     "output_type": "execute_result"
    }
   ],
   "source": [
    "df.head(6)"
   ]
  },
  {
   "cell_type": "code",
   "execution_count": 18,
   "metadata": {},
   "outputs": [
    {
     "data": {
      "text/plain": [
       "15870"
      ]
     },
     "execution_count": 18,
     "metadata": {},
     "output_type": "execute_result"
    }
   ],
   "source": [
    "len(df.SUBJECT_ID.unique())"
   ]
  },
  {
   "cell_type": "code",
   "execution_count": 19,
   "metadata": {},
   "outputs": [],
   "source": [
    "df.to_csv('data/label.csv', index=False)"
   ]
  },
  {
   "cell_type": "markdown",
   "metadata": {},
   "source": [
    "### proportion of examples that died within 90 days post-discharge "
   ]
  },
  {
   "cell_type": "code",
   "execution_count": 20,
   "metadata": {},
   "outputs": [
    {
     "data": {
      "text/plain": [
       "0.09445824671703087"
      ]
     },
     "execution_count": 20,
     "metadata": {},
     "output_type": "execute_result"
    }
   ],
   "source": [
    "np.mean(df.label)"
   ]
  },
  {
   "cell_type": "code",
   "execution_count": 21,
   "metadata": {},
   "outputs": [
    {
     "data": {
      "text/plain": [
       "1863"
      ]
     },
     "execution_count": 21,
     "metadata": {},
     "output_type": "execute_result"
    }
   ],
   "source": [
    "sum(df.label)"
   ]
  },
  {
   "cell_type": "code",
   "execution_count": 22,
   "metadata": {},
   "outputs": [
    {
     "data": {
      "text/plain": [
       "17860"
      ]
     },
     "execution_count": 22,
     "metadata": {},
     "output_type": "execute_result"
    }
   ],
   "source": [
    "df.shape[0]-sum(df.label)"
   ]
  },
  {
   "cell_type": "markdown",
   "metadata": {},
   "source": [
    "## Get data"
   ]
  },
  {
   "cell_type": "markdown",
   "metadata": {},
   "source": [
    "### ICD codes at discharge"
   ]
  },
  {
   "cell_type": "code",
   "execution_count": 12,
   "metadata": {},
   "outputs": [],
   "source": [
    "ICD = pd.read_csv(mimic3_path+\"DIAGNOSES_ICD.csv\")"
   ]
  },
  {
   "cell_type": "code",
   "execution_count": 13,
   "metadata": {},
   "outputs": [],
   "source": [
    "df_ICD = ICD[['HADM_ID', 'ICD9_CODE']].rename(columns={'HADM_ID': 'ID', 'ICD9_CODE': 'variable_value'}).copy()"
   ]
  },
  {
   "cell_type": "code",
   "execution_count": 14,
   "metadata": {},
   "outputs": [],
   "source": [
    "df_ICD = df_ICD.loc[df_ICD['ID'].isin(examples['HADM_ID'])]"
   ]
  },
  {
   "cell_type": "code",
   "execution_count": 15,
   "metadata": {},
   "outputs": [],
   "source": [
    "df_ICD['t'] = np.nan\n",
    "df_ICD['variable_name'] = 'ICD9_CODE'\n",
    "df_ICD = df_ICD[['ID', 't', 'variable_name', 'variable_value']]"
   ]
  },
  {
   "cell_type": "code",
   "execution_count": 16,
   "metadata": {},
   "outputs": [],
   "source": [
    "df_ICD = df_ICD[df_ICD['ID'].isin(examples['HADM_ID'])]"
   ]
  },
  {
   "cell_type": "code",
   "execution_count": 17,
   "metadata": {},
   "outputs": [
    {
     "data": {
      "text/html": [
       "<div>\n",
       "<style scoped>\n",
       "    .dataframe tbody tr th:only-of-type {\n",
       "        vertical-align: middle;\n",
       "    }\n",
       "\n",
       "    .dataframe tbody tr th {\n",
       "        vertical-align: top;\n",
       "    }\n",
       "\n",
       "    .dataframe thead th {\n",
       "        text-align: right;\n",
       "    }\n",
       "</style>\n",
       "<table border=\"1\" class=\"dataframe\">\n",
       "  <thead>\n",
       "    <tr style=\"text-align: right;\">\n",
       "      <th></th>\n",
       "      <th>ID</th>\n",
       "      <th>t</th>\n",
       "      <th>variable_name</th>\n",
       "      <th>variable_value</th>\n",
       "    </tr>\n",
       "  </thead>\n",
       "  <tbody>\n",
       "    <tr>\n",
       "      <th>0</th>\n",
       "      <td>172335</td>\n",
       "      <td>NaN</td>\n",
       "      <td>ICD9_CODE</td>\n",
       "      <td>40301</td>\n",
       "    </tr>\n",
       "    <tr>\n",
       "      <th>1</th>\n",
       "      <td>172335</td>\n",
       "      <td>NaN</td>\n",
       "      <td>ICD9_CODE</td>\n",
       "      <td>486</td>\n",
       "    </tr>\n",
       "    <tr>\n",
       "      <th>2</th>\n",
       "      <td>172335</td>\n",
       "      <td>NaN</td>\n",
       "      <td>ICD9_CODE</td>\n",
       "      <td>58281</td>\n",
       "    </tr>\n",
       "    <tr>\n",
       "      <th>3</th>\n",
       "      <td>172335</td>\n",
       "      <td>NaN</td>\n",
       "      <td>ICD9_CODE</td>\n",
       "      <td>5855</td>\n",
       "    </tr>\n",
       "    <tr>\n",
       "      <th>4</th>\n",
       "      <td>172335</td>\n",
       "      <td>NaN</td>\n",
       "      <td>ICD9_CODE</td>\n",
       "      <td>4254</td>\n",
       "    </tr>\n",
       "    <tr>\n",
       "      <th>...</th>\n",
       "      <td>...</td>\n",
       "      <td>...</td>\n",
       "      <td>...</td>\n",
       "      <td>...</td>\n",
       "    </tr>\n",
       "    <tr>\n",
       "      <th>651042</th>\n",
       "      <td>188195</td>\n",
       "      <td>NaN</td>\n",
       "      <td>ICD9_CODE</td>\n",
       "      <td>20280</td>\n",
       "    </tr>\n",
       "    <tr>\n",
       "      <th>651043</th>\n",
       "      <td>188195</td>\n",
       "      <td>NaN</td>\n",
       "      <td>ICD9_CODE</td>\n",
       "      <td>V5869</td>\n",
       "    </tr>\n",
       "    <tr>\n",
       "      <th>651044</th>\n",
       "      <td>188195</td>\n",
       "      <td>NaN</td>\n",
       "      <td>ICD9_CODE</td>\n",
       "      <td>V1279</td>\n",
       "    </tr>\n",
       "    <tr>\n",
       "      <th>651045</th>\n",
       "      <td>188195</td>\n",
       "      <td>NaN</td>\n",
       "      <td>ICD9_CODE</td>\n",
       "      <td>5275</td>\n",
       "    </tr>\n",
       "    <tr>\n",
       "      <th>651046</th>\n",
       "      <td>188195</td>\n",
       "      <td>NaN</td>\n",
       "      <td>ICD9_CODE</td>\n",
       "      <td>5569</td>\n",
       "    </tr>\n",
       "  </tbody>\n",
       "</table>\n",
       "<p>280541 rows × 4 columns</p>\n",
       "</div>"
      ],
      "text/plain": [
       "            ID   t variable_name variable_value\n",
       "0       172335 NaN     ICD9_CODE          40301\n",
       "1       172335 NaN     ICD9_CODE            486\n",
       "2       172335 NaN     ICD9_CODE          58281\n",
       "3       172335 NaN     ICD9_CODE           5855\n",
       "4       172335 NaN     ICD9_CODE           4254\n",
       "...        ...  ..           ...            ...\n",
       "651042  188195 NaN     ICD9_CODE          20280\n",
       "651043  188195 NaN     ICD9_CODE          V5869\n",
       "651044  188195 NaN     ICD9_CODE          V1279\n",
       "651045  188195 NaN     ICD9_CODE           5275\n",
       "651046  188195 NaN     ICD9_CODE           5569\n",
       "\n",
       "[280541 rows x 4 columns]"
      ]
     },
     "execution_count": 17,
     "metadata": {},
     "output_type": "execute_result"
    }
   ],
   "source": [
    "df_ICD"
   ]
  },
  {
   "cell_type": "code",
   "execution_count": 19,
   "metadata": {},
   "outputs": [],
   "source": [
    "df_ICD.dropna(subset=['variable_value']).to_csv('./data/icd_data.csv', index=False)"
   ]
  },
  {
   "cell_type": "markdown",
   "metadata": {},
   "source": [
    "### Clinical data, remap ID and t"
   ]
  },
  {
   "cell_type": "code",
   "execution_count": 28,
   "metadata": {},
   "outputs": [],
   "source": [
    "import pickle\n",
    "import copy\n",
    "from helper import *"
   ]
  },
  {
   "cell_type": "code",
   "execution_count": 29,
   "metadata": {},
   "outputs": [],
   "source": [
    "# Calculate time offset, in hours\n",
    "icustays_admissions = icustays_MV[['HADM_ID', 'ICUSTAY_ID', 'INTIME']].merge(admissions_MV[['HADM_ID', 'ADMITTIME']])\n",
    "icustays_admissions[['INTIME', 'ADMITTIME']] = icustays_admissions[['INTIME', 'ADMITTIME']].apply(pd.to_datetime)"
   ]
  },
  {
   "cell_type": "code",
   "execution_count": 30,
   "metadata": {},
   "outputs": [],
   "source": [
    "icustays_admissions['t_offset'] = (icustays_admissions['INTIME'] - icustays_admissions['ADMITTIME']).dt.total_seconds() / 3600."
   ]
  },
  {
   "cell_type": "code",
   "execution_count": 31,
   "metadata": {},
   "outputs": [],
   "source": [
    "offset_mappings = icustays_admissions[['HADM_ID', 'ICUSTAY_ID', 't_offset']]"
   ]
  },
  {
   "cell_type": "code",
   "execution_count": 32,
   "metadata": {},
   "outputs": [
    {
     "data": {
      "text/html": [
       "<div>\n",
       "<style scoped>\n",
       "    .dataframe tbody tr th:only-of-type {\n",
       "        vertical-align: middle;\n",
       "    }\n",
       "\n",
       "    .dataframe tbody tr th {\n",
       "        vertical-align: top;\n",
       "    }\n",
       "\n",
       "    .dataframe thead th {\n",
       "        text-align: right;\n",
       "    }\n",
       "</style>\n",
       "<table border=\"1\" class=\"dataframe\">\n",
       "  <thead>\n",
       "    <tr style=\"text-align: right;\">\n",
       "      <th></th>\n",
       "      <th>HADM_ID</th>\n",
       "      <th>ICUSTAY_ID</th>\n",
       "      <th>t_offset</th>\n",
       "    </tr>\n",
       "  </thead>\n",
       "  <tbody>\n",
       "    <tr>\n",
       "      <th>0</th>\n",
       "      <td>152234</td>\n",
       "      <td>200001</td>\n",
       "      <td>171.036667</td>\n",
       "    </tr>\n",
       "    <tr>\n",
       "      <th>1</th>\n",
       "      <td>192256</td>\n",
       "      <td>200010</td>\n",
       "      <td>0.021944</td>\n",
       "    </tr>\n",
       "    <tr>\n",
       "      <th>2</th>\n",
       "      <td>121562</td>\n",
       "      <td>200011</td>\n",
       "      <td>5.206667</td>\n",
       "    </tr>\n",
       "    <tr>\n",
       "      <th>3</th>\n",
       "      <td>117458</td>\n",
       "      <td>200016</td>\n",
       "      <td>4.988889</td>\n",
       "    </tr>\n",
       "    <tr>\n",
       "      <th>4</th>\n",
       "      <td>109307</td>\n",
       "      <td>200021</td>\n",
       "      <td>0.020000</td>\n",
       "    </tr>\n",
       "    <tr>\n",
       "      <th>...</th>\n",
       "      <td>...</td>\n",
       "      <td>...</td>\n",
       "      <td>...</td>\n",
       "    </tr>\n",
       "    <tr>\n",
       "      <th>23615</th>\n",
       "      <td>110990</td>\n",
       "      <td>299950</td>\n",
       "      <td>0.024722</td>\n",
       "    </tr>\n",
       "    <tr>\n",
       "      <th>23616</th>\n",
       "      <td>108958</td>\n",
       "      <td>299956</td>\n",
       "      <td>10.315000</td>\n",
       "    </tr>\n",
       "    <tr>\n",
       "      <th>23617</th>\n",
       "      <td>129555</td>\n",
       "      <td>299957</td>\n",
       "      <td>115.438056</td>\n",
       "    </tr>\n",
       "    <tr>\n",
       "      <th>23618</th>\n",
       "      <td>146497</td>\n",
       "      <td>299962</td>\n",
       "      <td>0.018333</td>\n",
       "    </tr>\n",
       "    <tr>\n",
       "      <th>23619</th>\n",
       "      <td>142693</td>\n",
       "      <td>299979</td>\n",
       "      <td>51.528333</td>\n",
       "    </tr>\n",
       "  </tbody>\n",
       "</table>\n",
       "<p>23620 rows × 3 columns</p>\n",
       "</div>"
      ],
      "text/plain": [
       "       HADM_ID  ICUSTAY_ID    t_offset\n",
       "0       152234      200001  171.036667\n",
       "1       192256      200010    0.021944\n",
       "2       121562      200011    5.206667\n",
       "3       117458      200016    4.988889\n",
       "4       109307      200021    0.020000\n",
       "...        ...         ...         ...\n",
       "23615   110990      299950    0.024722\n",
       "23616   108958      299956   10.315000\n",
       "23617   129555      299957  115.438056\n",
       "23618   146497      299962    0.018333\n",
       "23619   142693      299979   51.528333\n",
       "\n",
       "[23620 rows x 3 columns]"
      ]
     },
     "execution_count": 32,
     "metadata": {},
     "output_type": "execute_result"
    }
   ],
   "source": [
    "offset_mappings"
   ]
  },
  {
   "cell_type": "code",
   "execution_count": null,
   "metadata": {},
   "outputs": [],
   "source": []
  },
  {
   "cell_type": "code",
   "execution_count": 33,
   "metadata": {},
   "outputs": [],
   "source": [
    "with open('/data4/tangsp/FIDDLE/mimic3_experiments/data/processed/formatted/all_data.stacked.p', 'rb') as f:\n",
    "    data = pickle.load(f)"
   ]
  },
  {
   "cell_type": "code",
   "execution_count": 34,
   "metadata": {},
   "outputs": [
    {
     "data": {
      "text/plain": [
       "dict_keys(['TIME_INVARIANT', 'LABEVENTS', 'MICROBIOLOGYEVENTS', 'DATETIMEEVENTS', 'OUTPUTEVENTS', 'CHARTEVENTS', 'INPUTEVENTS_MV', 'PROCEDUREEVENTS_MV'])"
      ]
     },
     "execution_count": 34,
     "metadata": {},
     "output_type": "execute_result"
    }
   ],
   "source": [
    "data.keys()"
   ]
  },
  {
   "cell_type": "code",
   "execution_count": 35,
   "metadata": {},
   "outputs": [],
   "source": [
    "data_old = copy.deepcopy(data)"
   ]
  },
  {
   "cell_type": "raw",
   "metadata": {},
   "source": [
    "# restore the backup\n",
    "data = copy.deepcopy(data_old)"
   ]
  },
  {
   "cell_type": "code",
   "execution_count": 36,
   "metadata": {},
   "outputs": [
    {
     "name": "stderr",
     "output_type": "stream",
     "text": [
      "100%|██████████| 8/8 [13:07<00:00, 98.50s/it] \n"
     ]
    }
   ],
   "source": [
    "# remap ID and add time offset\n",
    "for name, df in tqdm(data.items()):\n",
    "    if name == 'TIME_INVARIANT':\n",
    "        continue\n",
    "    \n",
    "    df = df.merge(offset_mappings, left_on='ID', right_on='ICUSTAY_ID')\n",
    "    df_new = df.copy()\n",
    "    if 't' in df_new.columns:\n",
    "        df_new['t'] = df['t'] + df['t_offset']\n",
    "    elif 't_start' in df_new.columns:\n",
    "        df_new['t_start'] = df['t_start'] + df['t_offset']\n",
    "        df_new['t_end'] = df['t_end'] + df['t_offset']\n",
    "\n",
    "    df_new['ID'] = df['HADM_ID']\n",
    "    if 't' in df_new.columns:\n",
    "        df_new = df_new[['ID', 't', 'variable_name', 'variable_value']]\n",
    "    elif 't_start' in df_new.columns:\n",
    "        df_new = df_new[['ID', 't_start', 't_end', 'variable_name', 'variable_value']]\n",
    "    data[name] = df_new"
   ]
  },
  {
   "cell_type": "code",
   "execution_count": 37,
   "metadata": {},
   "outputs": [
    {
     "name": "stdout",
     "output_type": "stream",
     "text": [
      "\n",
      "--------------------------------------------------------------------------------\n",
      "Filter by prediction time T=4320.0\n",
      "--------------------------------------------------------------------------------\n"
     ]
    },
    {
     "name": "stderr",
     "output_type": "stream",
     "text": [
      "100%|██████████| 8/8 [03:19<00:00, 24.92s/it] "
     ]
    },
    {
     "name": "stdout",
     "output_type": "stream",
     "text": [
      "Done!\n"
     ]
    },
    {
     "name": "stderr",
     "output_type": "stream",
     "text": [
      "\n"
     ]
    }
   ],
   "source": [
    "T = 180*24. # max hospLOS = 180 days\n",
    "dt = 1.0\n",
    "data = filter_prediction_time(data, T) "
   ]
  },
  {
   "cell_type": "code",
   "execution_count": 38,
   "metadata": {},
   "outputs": [
    {
     "name": "stdout",
     "output_type": "stream",
     "text": [
      "\n",
      "--------------------------------------------------------------------------------\n",
      "Resolve duplicated event records (discrete)\n",
      "--------------------------------------------------------------------------------\n",
      "*** CHARTEVENTS\n",
      "    getting dups and ~dups\n"
     ]
    },
    {
     "name": "stderr",
     "output_type": "stream",
     "text": [
      "[Parallel(n_jobs=64)]: Using backend LokyBackend with 64 concurrent workers.\n",
      "[Parallel(n_jobs=64)]: Done  17 tasks      | elapsed:  1.7min\n",
      "[Parallel(n_jobs=64)]: Done  34 tasks      | elapsed:  1.8min\n",
      "[Parallel(n_jobs=64)]: Done  53 tasks      | elapsed:  1.9min\n",
      "[Parallel(n_jobs=64)]: Done  72 tasks      | elapsed:  2.0min\n",
      "[Parallel(n_jobs=64)]: Done 105 out of 210 | elapsed:  2.0min remaining:  2.0min\n",
      "[Parallel(n_jobs=64)]: Done 127 out of 210 | elapsed:  2.0min remaining:  1.3min\n",
      "[Parallel(n_jobs=64)]: Done 149 out of 210 | elapsed:  2.1min remaining:   50.8s\n",
      "[Parallel(n_jobs=64)]: Done 171 out of 210 | elapsed:  2.1min remaining:   28.9s\n",
      "[Parallel(n_jobs=64)]: Done 193 out of 210 | elapsed:  2.2min remaining:   11.5s\n",
      "[Parallel(n_jobs=64)]: Done 210 out of 210 | elapsed:  8.3min finished\n"
     ]
    },
    {
     "name": "stdout",
     "output_type": "stream",
     "text": [
      "    concatenating results\n",
      "*** LABEVENTS\n",
      "Verifying no more duplicates...\n",
      "MICROBIOLOGYEVENTS contains duplicate records\n",
      "\n",
      "--------------------------------------------------------------------------------\n",
      "Resample continuous events, T=4320.0, dt=1.0\n",
      "--------------------------------------------------------------------------------\n"
     ]
    },
    {
     "name": "stderr",
     "output_type": "stream",
     "text": [
      "  0%|          | 26/255828 [00:00<1:45:47, 40.30it/s]"
     ]
    },
    {
     "name": "stdout",
     "output_type": "stream",
     "text": [
      "PROCEDUREEVENTS_MV\n"
     ]
    },
    {
     "name": "stderr",
     "output_type": "stream",
     "text": [
      "100%|██████████| 255828/255828 [16:24<00:00, 259.95it/s]\n",
      "  0%|          | 0/8678376 [00:00<?, ?it/s]"
     ]
    },
    {
     "name": "stdout",
     "output_type": "stream",
     "text": [
      "INPUTEVENTS_MV\n"
     ]
    },
    {
     "name": "stderr",
     "output_type": "stream",
     "text": [
      " 11%|█▏        | 979772/8678376 [52:24<6:51:31, 311.79it/s] "
     ]
    },
    {
     "ename": "KeyboardInterrupt",
     "evalue": "",
     "output_type": "error",
     "traceback": [
      "\u001b[0;31m---------------------------------------------------------------------------\u001b[0m",
      "\u001b[0;31mKeyboardInterrupt\u001b[0m                         Traceback (most recent call last)",
      "\u001b[0;32m<ipython-input-38-c0b2366d29be>\u001b[0m in \u001b[0;36m<module>\u001b[0;34m\u001b[0m\n\u001b[1;32m      1\u001b[0m \u001b[0;31m# Resample continuous, resolve duplicates (discrete & continuous)\u001b[0m\u001b[0;34m\u001b[0m\u001b[0;34m\u001b[0m\u001b[0;34m\u001b[0m\u001b[0m\n\u001b[1;32m      2\u001b[0m \u001b[0mdata\u001b[0m \u001b[0;34m=\u001b[0m \u001b[0mresolve_duplicates_discrete\u001b[0m\u001b[0;34m(\u001b[0m\u001b[0mdata\u001b[0m\u001b[0;34m)\u001b[0m\u001b[0;34m\u001b[0m\u001b[0;34m\u001b[0m\u001b[0m\n\u001b[0;32m----> 3\u001b[0;31m \u001b[0mdata\u001b[0m \u001b[0;34m=\u001b[0m \u001b[0mresample_continuous_events\u001b[0m\u001b[0;34m(\u001b[0m\u001b[0mdata\u001b[0m\u001b[0;34m,\u001b[0m \u001b[0mT\u001b[0m\u001b[0;34m,\u001b[0m \u001b[0mdt\u001b[0m\u001b[0;34m)\u001b[0m\u001b[0;34m\u001b[0m\u001b[0;34m\u001b[0m\u001b[0m\n\u001b[0m\u001b[1;32m      4\u001b[0m \u001b[0mdata\u001b[0m \u001b[0;34m=\u001b[0m \u001b[0mresolve_duplicates_continuous\u001b[0m\u001b[0;34m(\u001b[0m\u001b[0mdata\u001b[0m\u001b[0;34m)\u001b[0m\u001b[0;34m\u001b[0m\u001b[0;34m\u001b[0m\u001b[0m\n\u001b[1;32m      5\u001b[0m \u001b[0;34m\u001b[0m\u001b[0m\n",
      "\u001b[0;32m/data4/tangsp/FIDDLE_experiments/90-day-post-discharge-mortality/helper.py\u001b[0m in \u001b[0;36mresample_continuous_events\u001b[0;34m(data, T, dt)\u001b[0m\n\u001b[1;32m     63\u001b[0m                     \u001b[0;32mcontinue\u001b[0m\u001b[0;34m\u001b[0m\u001b[0;34m\u001b[0m\u001b[0m\n\u001b[1;32m     64\u001b[0m                 \u001b[0mdf_tmp\u001b[0m \u001b[0;34m=\u001b[0m \u001b[0mpd\u001b[0m\u001b[0;34m.\u001b[0m\u001b[0mconcat\u001b[0m\u001b[0;34m(\u001b[0m\u001b[0mlen\u001b[0m\u001b[0;34m(\u001b[0m\u001b[0mt_range\u001b[0m\u001b[0;34m)\u001b[0m \u001b[0;34m*\u001b[0m \u001b[0;34m[\u001b[0m\u001b[0mrow\u001b[0m\u001b[0;34m]\u001b[0m\u001b[0;34m,\u001b[0m \u001b[0maxis\u001b[0m\u001b[0;34m=\u001b[0m\u001b[0;36m1\u001b[0m\u001b[0;34m)\u001b[0m\u001b[0;34m.\u001b[0m\u001b[0mT\u001b[0m\u001b[0;34m.\u001b[0m\u001b[0mdrop\u001b[0m\u001b[0;34m(\u001b[0m\u001b[0mcolumns\u001b[0m\u001b[0;34m=\u001b[0m\u001b[0;34m[\u001b[0m\u001b[0;34m't_start'\u001b[0m\u001b[0;34m,\u001b[0m \u001b[0;34m't_end'\u001b[0m\u001b[0;34m]\u001b[0m\u001b[0;34m)\u001b[0m\u001b[0;34m\u001b[0m\u001b[0;34m\u001b[0m\u001b[0m\n\u001b[0;32m---> 65\u001b[0;31m                 \u001b[0mdf_tmp\u001b[0m\u001b[0;34m[\u001b[0m\u001b[0;34m't'\u001b[0m\u001b[0;34m]\u001b[0m \u001b[0;34m=\u001b[0m \u001b[0mt_range\u001b[0m\u001b[0;34m\u001b[0m\u001b[0;34m\u001b[0m\u001b[0m\n\u001b[0m\u001b[1;32m     66\u001b[0m                 \u001b[0mdf_out\u001b[0m\u001b[0;34m.\u001b[0m\u001b[0mappend\u001b[0m\u001b[0;34m(\u001b[0m\u001b[0mdf_tmp\u001b[0m\u001b[0;34m)\u001b[0m\u001b[0;34m\u001b[0m\u001b[0;34m\u001b[0m\u001b[0m\n\u001b[1;32m     67\u001b[0m             \u001b[0mdf_out\u001b[0m \u001b[0;34m=\u001b[0m \u001b[0mpd\u001b[0m\u001b[0;34m.\u001b[0m\u001b[0mconcat\u001b[0m\u001b[0;34m(\u001b[0m\u001b[0mdf_out\u001b[0m\u001b[0;34m)\u001b[0m\u001b[0;34m[\u001b[0m\u001b[0;34m[\u001b[0m\u001b[0;34m'ID'\u001b[0m\u001b[0;34m,\u001b[0m \u001b[0;34m't'\u001b[0m\u001b[0;34m,\u001b[0m \u001b[0;34m'variable_name'\u001b[0m\u001b[0;34m,\u001b[0m \u001b[0;34m'variable_value'\u001b[0m\u001b[0;34m]\u001b[0m\u001b[0;34m]\u001b[0m\u001b[0;34m\u001b[0m\u001b[0;34m\u001b[0m\u001b[0m\n",
      "\u001b[0;32m/data4/tangsp/venv/lib/python3.7/site-packages/pandas/core/frame.py\u001b[0m in \u001b[0;36m__setitem__\u001b[0;34m(self, key, value)\u001b[0m\n\u001b[1;32m   2936\u001b[0m         \u001b[0;32melse\u001b[0m\u001b[0;34m:\u001b[0m\u001b[0;34m\u001b[0m\u001b[0;34m\u001b[0m\u001b[0m\n\u001b[1;32m   2937\u001b[0m             \u001b[0;31m# set column\u001b[0m\u001b[0;34m\u001b[0m\u001b[0;34m\u001b[0m\u001b[0;34m\u001b[0m\u001b[0m\n\u001b[0;32m-> 2938\u001b[0;31m             \u001b[0mself\u001b[0m\u001b[0;34m.\u001b[0m\u001b[0m_set_item\u001b[0m\u001b[0;34m(\u001b[0m\u001b[0mkey\u001b[0m\u001b[0;34m,\u001b[0m \u001b[0mvalue\u001b[0m\u001b[0;34m)\u001b[0m\u001b[0;34m\u001b[0m\u001b[0;34m\u001b[0m\u001b[0m\n\u001b[0m\u001b[1;32m   2939\u001b[0m \u001b[0;34m\u001b[0m\u001b[0m\n\u001b[1;32m   2940\u001b[0m     \u001b[0;32mdef\u001b[0m \u001b[0m_setitem_slice\u001b[0m\u001b[0;34m(\u001b[0m\u001b[0mself\u001b[0m\u001b[0;34m,\u001b[0m \u001b[0mkey\u001b[0m\u001b[0;34m,\u001b[0m \u001b[0mvalue\u001b[0m\u001b[0;34m)\u001b[0m\u001b[0;34m:\u001b[0m\u001b[0;34m\u001b[0m\u001b[0;34m\u001b[0m\u001b[0m\n",
      "\u001b[0;32m/data4/tangsp/venv/lib/python3.7/site-packages/pandas/core/frame.py\u001b[0m in \u001b[0;36m_set_item\u001b[0;34m(self, key, value)\u001b[0m\n\u001b[1;32m   2994\u001b[0m         \"\"\"\n\u001b[1;32m   2995\u001b[0m \u001b[0;34m\u001b[0m\u001b[0m\n\u001b[0;32m-> 2996\u001b[0;31m         \u001b[0mself\u001b[0m\u001b[0;34m.\u001b[0m\u001b[0m_ensure_valid_index\u001b[0m\u001b[0;34m(\u001b[0m\u001b[0mvalue\u001b[0m\u001b[0;34m)\u001b[0m\u001b[0;34m\u001b[0m\u001b[0;34m\u001b[0m\u001b[0m\n\u001b[0m\u001b[1;32m   2997\u001b[0m         \u001b[0mvalue\u001b[0m \u001b[0;34m=\u001b[0m \u001b[0mself\u001b[0m\u001b[0;34m.\u001b[0m\u001b[0m_sanitize_column\u001b[0m\u001b[0;34m(\u001b[0m\u001b[0mkey\u001b[0m\u001b[0;34m,\u001b[0m \u001b[0mvalue\u001b[0m\u001b[0;34m)\u001b[0m\u001b[0;34m\u001b[0m\u001b[0;34m\u001b[0m\u001b[0m\n\u001b[1;32m   2998\u001b[0m         \u001b[0mNDFrame\u001b[0m\u001b[0;34m.\u001b[0m\u001b[0m_set_item\u001b[0m\u001b[0;34m(\u001b[0m\u001b[0mself\u001b[0m\u001b[0;34m,\u001b[0m \u001b[0mkey\u001b[0m\u001b[0;34m,\u001b[0m \u001b[0mvalue\u001b[0m\u001b[0;34m)\u001b[0m\u001b[0;34m\u001b[0m\u001b[0;34m\u001b[0m\u001b[0m\n",
      "\u001b[0;32m/data4/tangsp/venv/lib/python3.7/site-packages/pandas/core/frame.py\u001b[0m in \u001b[0;36m_ensure_valid_index\u001b[0;34m(self, value)\u001b[0m\n\u001b[1;32m   3047\u001b[0m         \"\"\"\n\u001b[1;32m   3048\u001b[0m         \u001b[0;31m# GH5632, make sure that we are a Series convertible\u001b[0m\u001b[0;34m\u001b[0m\u001b[0;34m\u001b[0m\u001b[0;34m\u001b[0m\u001b[0m\n\u001b[0;32m-> 3049\u001b[0;31m         \u001b[0;32mif\u001b[0m \u001b[0;32mnot\u001b[0m \u001b[0mlen\u001b[0m\u001b[0;34m(\u001b[0m\u001b[0mself\u001b[0m\u001b[0;34m.\u001b[0m\u001b[0mindex\u001b[0m\u001b[0;34m)\u001b[0m \u001b[0;32mand\u001b[0m \u001b[0mis_list_like\u001b[0m\u001b[0;34m(\u001b[0m\u001b[0mvalue\u001b[0m\u001b[0;34m)\u001b[0m \u001b[0;32mand\u001b[0m \u001b[0mlen\u001b[0m\u001b[0;34m(\u001b[0m\u001b[0mvalue\u001b[0m\u001b[0;34m)\u001b[0m\u001b[0;34m:\u001b[0m\u001b[0;34m\u001b[0m\u001b[0;34m\u001b[0m\u001b[0m\n\u001b[0m\u001b[1;32m   3050\u001b[0m             \u001b[0;32mtry\u001b[0m\u001b[0;34m:\u001b[0m\u001b[0;34m\u001b[0m\u001b[0;34m\u001b[0m\u001b[0m\n\u001b[1;32m   3051\u001b[0m                 \u001b[0mvalue\u001b[0m \u001b[0;34m=\u001b[0m \u001b[0mSeries\u001b[0m\u001b[0;34m(\u001b[0m\u001b[0mvalue\u001b[0m\u001b[0;34m)\u001b[0m\u001b[0;34m\u001b[0m\u001b[0;34m\u001b[0m\u001b[0m\n",
      "\u001b[0;31mKeyboardInterrupt\u001b[0m: "
     ]
    }
   ],
   "source": [
    "# Resample continuous, resolve duplicates (discrete & continuous)\n",
    "data = resolve_duplicates_discrete(data)\n",
    "data = resample_continuous_events(data, T, dt)\n",
    "# data = resolve_duplicates_continuous(data)\n"
   ]
  },
  {
   "cell_type": "code",
   "execution_count": 41,
   "metadata": {},
   "outputs": [
    {
     "data": {
      "text/plain": [
       "dict_keys(['CHARTEVENTS', 'DATETIMEEVENTS', 'INPUTEVENTS_MV', 'LABEVENTS', 'MICROBIOLOGYEVENTS', 'OUTPUTEVENTS', 'PROCEDUREEVENTS_MV', 'TIME_INVARIANT'])"
      ]
     },
     "execution_count": 41,
     "metadata": {},
     "output_type": "execute_result"
    }
   ],
   "source": [
    "data.keys()"
   ]
  },
  {
   "cell_type": "code",
   "execution_count": 42,
   "metadata": {},
   "outputs": [],
   "source": [
    "data_ = { name: data[name] for name in [\n",
    "    'CHARTEVENTS', 'DATETIMEEVENTS', 'LABEVENTS', 'MICROBIOLOGYEVENTS', 'OUTPUTEVENTS', 'TIME_INVARIANT']\n",
    "}"
   ]
  },
  {
   "cell_type": "code",
   "execution_count": 43,
   "metadata": {},
   "outputs": [],
   "source": [
    "# Combine all DataFrames into one\n",
    "df_data = pd.concat(data_, axis='index', ignore_index=True)\n",
    "df_data = df_data.sort_values(by=['ID', 't', 'variable_name', 'variable_value'], na_position='first')"
   ]
  },
  {
   "cell_type": "code",
   "execution_count": 44,
   "metadata": {},
   "outputs": [],
   "source": [
    "df_data.to_pickle('data/clinical.p')"
   ]
  },
  {
   "cell_type": "code",
   "execution_count": null,
   "metadata": {},
   "outputs": [],
   "source": []
  }
 ],
 "metadata": {
  "kernelspec": {
   "display_name": "Python 3",
   "language": "python",
   "name": "python3"
  },
  "language_info": {
   "codemirror_mode": {
    "name": "ipython",
    "version": 3
   },
   "file_extension": ".py",
   "mimetype": "text/x-python",
   "name": "python",
   "nbconvert_exporter": "python",
   "pygments_lexer": "ipython3",
   "version": "3.7.4"
  }
 },
 "nbformat": 4,
 "nbformat_minor": 4
}
