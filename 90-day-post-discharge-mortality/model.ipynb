{
 "cells": [
  {
   "cell_type": "markdown",
   "metadata": {},
   "source": [
    "# Build LR and RF models"
   ]
  },
  {
   "cell_type": "code",
   "execution_count": 1,
   "metadata": {},
   "outputs": [],
   "source": [
    "import numpy as np\n",
    "import pandas as pd\n",
    "from collections import Counter\n",
    "\n",
    "from sklearn.model_selection import train_test_split\n",
    "from sklearn.model_selection import ShuffleSplit"
   ]
  },
  {
   "cell_type": "code",
   "execution_count": 2,
   "metadata": {},
   "outputs": [],
   "source": [
    "df = pd.read_csv('input/label.csv').rename(columns={'HADM_ID': 'ID'})"
   ]
  },
  {
   "cell_type": "code",
   "execution_count": 3,
   "metadata": {},
   "outputs": [
    {
     "data": {
      "text/html": [
       "<div>\n",
       "<style scoped>\n",
       "    .dataframe tbody tr th:only-of-type {\n",
       "        vertical-align: middle;\n",
       "    }\n",
       "\n",
       "    .dataframe tbody tr th {\n",
       "        vertical-align: top;\n",
       "    }\n",
       "\n",
       "    .dataframe thead th {\n",
       "        text-align: right;\n",
       "    }\n",
       "</style>\n",
       "<table border=\"1\" class=\"dataframe\">\n",
       "  <thead>\n",
       "    <tr style=\"text-align: right;\">\n",
       "      <th></th>\n",
       "      <th>ID</th>\n",
       "      <th>mortality_day</th>\n",
       "      <th>label</th>\n",
       "      <th>partition</th>\n",
       "    </tr>\n",
       "  </thead>\n",
       "  <tbody>\n",
       "    <tr>\n",
       "      <th>0</th>\n",
       "      <td>100001</td>\n",
       "      <td>0</td>\n",
       "      <td>0</td>\n",
       "      <td>train</td>\n",
       "    </tr>\n",
       "    <tr>\n",
       "      <th>1</th>\n",
       "      <td>100003</td>\n",
       "      <td>250</td>\n",
       "      <td>0</td>\n",
       "      <td>test</td>\n",
       "    </tr>\n",
       "    <tr>\n",
       "      <th>2</th>\n",
       "      <td>100009</td>\n",
       "      <td>0</td>\n",
       "      <td>0</td>\n",
       "      <td>train</td>\n",
       "    </tr>\n",
       "    <tr>\n",
       "      <th>3</th>\n",
       "      <td>100010</td>\n",
       "      <td>0</td>\n",
       "      <td>0</td>\n",
       "      <td>test</td>\n",
       "    </tr>\n",
       "    <tr>\n",
       "      <th>4</th>\n",
       "      <td>100011</td>\n",
       "      <td>0</td>\n",
       "      <td>0</td>\n",
       "      <td>train</td>\n",
       "    </tr>\n",
       "    <tr>\n",
       "      <th>...</th>\n",
       "      <td>...</td>\n",
       "      <td>...</td>\n",
       "      <td>...</td>\n",
       "      <td>...</td>\n",
       "    </tr>\n",
       "    <tr>\n",
       "      <th>19718</th>\n",
       "      <td>199972</td>\n",
       "      <td>920</td>\n",
       "      <td>0</td>\n",
       "      <td>train</td>\n",
       "    </tr>\n",
       "    <tr>\n",
       "      <th>19719</th>\n",
       "      <td>199979</td>\n",
       "      <td>0</td>\n",
       "      <td>0</td>\n",
       "      <td>val</td>\n",
       "    </tr>\n",
       "    <tr>\n",
       "      <th>19720</th>\n",
       "      <td>199984</td>\n",
       "      <td>0</td>\n",
       "      <td>0</td>\n",
       "      <td>val</td>\n",
       "    </tr>\n",
       "    <tr>\n",
       "      <th>19721</th>\n",
       "      <td>199992</td>\n",
       "      <td>0</td>\n",
       "      <td>0</td>\n",
       "      <td>train</td>\n",
       "    </tr>\n",
       "    <tr>\n",
       "      <th>19722</th>\n",
       "      <td>199999</td>\n",
       "      <td>0</td>\n",
       "      <td>0</td>\n",
       "      <td>train</td>\n",
       "    </tr>\n",
       "  </tbody>\n",
       "</table>\n",
       "<p>19723 rows × 4 columns</p>\n",
       "</div>"
      ],
      "text/plain": [
       "           ID  mortality_day  label partition\n",
       "0      100001              0      0     train\n",
       "1      100003            250      0      test\n",
       "2      100009              0      0     train\n",
       "3      100010              0      0      test\n",
       "4      100011              0      0     train\n",
       "...       ...            ...    ...       ...\n",
       "19718  199972            920      0     train\n",
       "19719  199979              0      0       val\n",
       "19720  199984              0      0       val\n",
       "19721  199992              0      0     train\n",
       "19722  199999              0      0     train\n",
       "\n",
       "[19723 rows x 4 columns]"
      ]
     },
     "execution_count": 3,
     "metadata": {},
     "output_type": "execute_result"
    }
   ],
   "source": [
    "df"
   ]
  },
  {
   "cell_type": "code",
   "execution_count": 4,
   "metadata": {},
   "outputs": [],
   "source": [
    "from sklearn.linear_model import LogisticRegression\n",
    "from sklearn.ensemble import RandomForestClassifier\n",
    "from sklearn.model_selection import StratifiedShuffleSplit, StratifiedKFold, GridSearchCV, RandomizedSearchCV\n",
    "from sklearn import metrics, feature_selection, utils\n",
    "import scipy.stats\n",
    "from joblib import Parallel, delayed\n",
    "from tqdm import tqdm#_notebook as tqdm\n",
    "import random"
   ]
  },
  {
   "cell_type": "code",
   "execution_count": 12,
   "metadata": {},
   "outputs": [],
   "source": [
    "def train_model(Xtr, ytr, Xte, yte, model_name, exp_name):\n",
    "    np.random.seed(0)\n",
    "    random.seed(0)\n",
    "\n",
    "    clf = helper(model_name)\n",
    "\n",
    "    clf.fit(Xtr, ytr)\n",
    "    print('best_params_', clf.best_params_)\n",
    "    print('best_score_ ', clf.best_score_)\n",
    "    try:\n",
    "        np.savetxt(\n",
    "            'output/{}.{},coef.txt'.format(exp_name, model_name), \n",
    "            clf.best_estimator_.coef_,\n",
    "            delimiter=',',\n",
    "        )\n",
    "    except:\n",
    "        print('Coefficients not saved')\n",
    "        pass\n",
    "\n",
    "    ###### \n",
    "    # Eval\n",
    "    # Bootstrapped 95% Confidence Interval\n",
    "    try:\n",
    "        yte_pred = clf.predict_proba(Xte)[:,1]\n",
    "    except AttributeError:\n",
    "        print('Cannot produce probabilistic estimates')\n",
    "        raise\n",
    "\n",
    "    def func(i):\n",
    "        yte_true_b, yte_pred_b = utils.resample(yte, yte_pred, replace=True, random_state=i)\n",
    "        return metrics.roc_auc_score(yte_true_b, yte_pred_b)\n",
    "\n",
    "    test_scores = Parallel(n_jobs=2)(delayed(func)(i) for i in tqdm(range(1000), leave=False))\n",
    "    print('Test AUC: {:.3f} ({:.3f}, {:.3f})'.format(np.median(test_scores), np.percentile(test_scores, 2.5), np.percentile(test_scores, 97.5)))\n",
    "\n",
    "    save_test_predictions(yte, yte_pred, model_name, 'output/'+exp_name+'.')"
   ]
  },
  {
   "cell_type": "code",
   "execution_count": 6,
   "metadata": {},
   "outputs": [],
   "source": [
    "n_jobs=12\n",
    "search_budget=50\n",
    "\n",
    "def helper(model_type):\n",
    "    if model_type == 'LR':\n",
    "        clf = RandomizedSearchCV(\n",
    "            LogisticRegression(solver='lbfgs'), \n",
    "            {'C': scipy.stats.reciprocal(1e-5, 1e5)},\n",
    "            n_iter=search_budget,\n",
    "            cv=StratifiedKFold(5),\n",
    "            scoring='roc_auc',\n",
    "            n_jobs=n_jobs, verbose=2,\n",
    "        )\n",
    "    elif model_type == 'RF':\n",
    "        clf = RandomizedSearchCV(\n",
    "            RandomForestClassifier(), \n",
    "            {\n",
    "                \"criterion\": [\"gini\", \"entropy\"],\n",
    "                \"max_depth\": [4, 8, 16, 32, None],\n",
    "                \"max_features\": scipy.stats.randint(1, 100),\n",
    "                \"min_samples_split\": scipy.stats.randint(2, 11),\n",
    "                \"min_samples_leaf\": scipy.stats.randint(1, 11),\n",
    "                \"n_estimators\": scipy.stats.randint(50,500),\n",
    "                \"bootstrap\": [True],\n",
    "            },\n",
    "            n_iter=search_budget,\n",
    "            cv=StratifiedKFold(5),\n",
    "            scoring='roc_auc',\n",
    "            n_jobs=n_jobs, verbose=2,\n",
    "        )\n",
    "    else:\n",
    "        assert False\n",
    "    \n",
    "    return clf\n",
    "\n",
    "def save_test_predictions(y_true, y_score, model_name, save_dir):\n",
    "#     import pathlib\n",
    "#     pathlib.Path(save_dir).mkdir(parents=True, exist_ok=True)\n",
    "    \n",
    "    fname = save_dir + '{}.test.npz'.format(model_name)\n",
    "    np.savez(\n",
    "        open(fname, 'wb'),\n",
    "        y_score = y_score,\n",
    "        y_true  = y_true,\n",
    "    )\n",
    "    print('Test predictions saved to', fname)"
   ]
  },
  {
   "cell_type": "markdown",
   "metadata": {},
   "source": [
    "### ICD [0]"
   ]
  },
  {
   "cell_type": "code",
   "execution_count": 7,
   "metadata": {},
   "outputs": [],
   "source": [
    "import sparse\n",
    "X = sparse.load_npz('output.icd[0]/s.npz').todense()"
   ]
  },
  {
   "cell_type": "code",
   "execution_count": 8,
   "metadata": {},
   "outputs": [
    {
     "data": {
      "text/plain": [
       "(19723, 17)"
      ]
     },
     "execution_count": 8,
     "metadata": {},
     "output_type": "execute_result"
    }
   ],
   "source": [
    "X.shape"
   ]
  },
  {
   "cell_type": "code",
   "execution_count": 9,
   "metadata": {},
   "outputs": [
    {
     "name": "stdout",
     "output_type": "stream",
     "text": [
      "(13865, 17) (13865,) (2928, 17) (2928,)\n"
     ]
    }
   ],
   "source": [
    "Xtr = X[df.partition==\"train\"]\n",
    "ytr = df[df.partition==\"train\"]['label']\n",
    "Xte = X[df.partition==\"test\"]\n",
    "yte = df[df.partition==\"test\"]['label']\n",
    "print(Xtr.shape, ytr.shape, Xte.shape, yte.shape)"
   ]
  },
  {
   "cell_type": "code",
   "execution_count": 10,
   "metadata": {},
   "outputs": [
    {
     "name": "stdout",
     "output_type": "stream",
     "text": [
      "Fitting 5 folds for each of 50 candidates, totalling 250 fits\n"
     ]
    },
    {
     "name": "stderr",
     "output_type": "stream",
     "text": [
      "[Parallel(n_jobs=12)]: Using backend LokyBackend with 12 concurrent workers.\n",
      "[Parallel(n_jobs=12)]: Done  17 tasks      | elapsed:    1.2s\n",
      "[Parallel(n_jobs=12)]: Done 192 tasks      | elapsed:    2.7s\n",
      "[Parallel(n_jobs=12)]: Done 227 out of 250 | elapsed:    2.9s remaining:    0.3s\n",
      "[Parallel(n_jobs=12)]: Done 250 out of 250 | elapsed:    3.0s finished\n",
      "  0%|          | 0/1000 [00:00<?, ?it/s]"
     ]
    },
    {
     "name": "stdout",
     "output_type": "stream",
     "text": [
      "best_params_ {'C': 0.17240426024865194}\n",
      "best_score_  0.7386671618536903\n"
     ]
    },
    {
     "name": "stderr",
     "output_type": "stream",
     "text": [
      "                                                  \r"
     ]
    },
    {
     "name": "stdout",
     "output_type": "stream",
     "text": [
      "Test AUC: 0.725 (0.694, 0.753)\n",
      "Test predictions saved to output/ICD[0].LR.test.npz\n"
     ]
    }
   ],
   "source": [
    "train_model(Xtr, ytr, Xte, yte, 'LR', 'ICD[0]')"
   ]
  },
  {
   "cell_type": "code",
   "execution_count": 13,
   "metadata": {},
   "outputs": [
    {
     "name": "stdout",
     "output_type": "stream",
     "text": [
      "Fitting 5 folds for each of 50 candidates, totalling 250 fits\n"
     ]
    },
    {
     "name": "stderr",
     "output_type": "stream",
     "text": [
      "[Parallel(n_jobs=12)]: Using backend LokyBackend with 12 concurrent workers.\n",
      "[Parallel(n_jobs=12)]: Done  17 tasks      | elapsed:    1.2s\n",
      "[Parallel(n_jobs=12)]: Done 138 tasks      | elapsed:    5.3s\n",
      "[Parallel(n_jobs=12)]: Done 250 out of 250 | elapsed:    9.3s finished\n",
      "  0%|          | 0/1000 [00:00<?, ?it/s]"
     ]
    },
    {
     "name": "stdout",
     "output_type": "stream",
     "text": [
      "best_params_ {'bootstrap': True, 'criterion': 'entropy', 'max_depth': 8, 'max_features': 2, 'min_samples_leaf': 7, 'min_samples_split': 10, 'n_estimators': 431}\n",
      "best_score_  0.7386321364300639\n",
      "Coefficients not saved\n"
     ]
    },
    {
     "name": "stderr",
     "output_type": "stream",
     "text": [
      "                                                  \r"
     ]
    },
    {
     "name": "stdout",
     "output_type": "stream",
     "text": [
      "Test AUC: 0.733 (0.703, 0.763)\n",
      "Test predictions saved to output/ICD[0].RF.test.npz\n"
     ]
    }
   ],
   "source": [
    "train_model(Xtr, ytr, Xte, yte, 'RF', 'ICD[0]')"
   ]
  },
  {
   "cell_type": "markdown",
   "metadata": {},
   "source": [
    "### ICD [0,1]"
   ]
  },
  {
   "cell_type": "code",
   "execution_count": 14,
   "metadata": {},
   "outputs": [],
   "source": [
    "import sparse\n",
    "X = sparse.load_npz('output.icd[0,1]/s.npz').todense()"
   ]
  },
  {
   "cell_type": "code",
   "execution_count": 15,
   "metadata": {},
   "outputs": [
    {
     "data": {
      "text/plain": [
       "(19723, 112)"
      ]
     },
     "execution_count": 15,
     "metadata": {},
     "output_type": "execute_result"
    }
   ],
   "source": [
    "X.shape"
   ]
  },
  {
   "cell_type": "code",
   "execution_count": 16,
   "metadata": {},
   "outputs": [
    {
     "name": "stdout",
     "output_type": "stream",
     "text": [
      "(13865, 112) (13865,) (2928, 112) (2928,)\n"
     ]
    }
   ],
   "source": [
    "Xtr = X[df.partition==\"train\"]\n",
    "ytr = df[df.partition==\"train\"]['label']\n",
    "Xte = X[df.partition==\"test\"]\n",
    "yte = df[df.partition==\"test\"]['label']\n",
    "print(Xtr.shape, ytr.shape, Xte.shape, yte.shape)"
   ]
  },
  {
   "cell_type": "code",
   "execution_count": 17,
   "metadata": {},
   "outputs": [
    {
     "name": "stdout",
     "output_type": "stream",
     "text": [
      "Fitting 5 folds for each of 50 candidates, totalling 250 fits\n"
     ]
    },
    {
     "name": "stderr",
     "output_type": "stream",
     "text": [
      "[Parallel(n_jobs=12)]: Using backend LokyBackend with 12 concurrent workers.\n",
      "[Parallel(n_jobs=12)]: Done  17 tasks      | elapsed:    1.8s\n",
      "[Parallel(n_jobs=12)]: Done 138 tasks      | elapsed:    5.9s\n",
      "[Parallel(n_jobs=12)]: Done 250 out of 250 | elapsed:    9.1s finished\n",
      "  0%|          | 0/1000 [00:00<?, ?it/s]"
     ]
    },
    {
     "name": "stdout",
     "output_type": "stream",
     "text": [
      "best_params_ {'C': 0.14015848675188294}\n",
      "best_score_  0.7950248801285071\n"
     ]
    },
    {
     "name": "stderr",
     "output_type": "stream",
     "text": [
      "                                                  \r"
     ]
    },
    {
     "name": "stdout",
     "output_type": "stream",
     "text": [
      "Test AUC: 0.777 (0.748, 0.804)\n",
      "Test predictions saved to output/ICD[0,1].LR.test.npz\n"
     ]
    }
   ],
   "source": [
    "train_model(Xtr, ytr, Xte, yte, 'LR', 'ICD[0,1]')"
   ]
  },
  {
   "cell_type": "code",
   "execution_count": 18,
   "metadata": {},
   "outputs": [
    {
     "name": "stdout",
     "output_type": "stream",
     "text": [
      "Fitting 5 folds for each of 50 candidates, totalling 250 fits\n"
     ]
    },
    {
     "name": "stderr",
     "output_type": "stream",
     "text": [
      "[Parallel(n_jobs=12)]: Using backend LokyBackend with 12 concurrent workers.\n",
      "[Parallel(n_jobs=12)]: Done  17 tasks      | elapsed:    8.9s\n",
      "[Parallel(n_jobs=12)]: Done 138 tasks      | elapsed:  1.4min\n",
      "[Parallel(n_jobs=12)]: Done 250 out of 250 | elapsed:  2.8min finished\n"
     ]
    },
    {
     "name": "stdout",
     "output_type": "stream",
     "text": [
      "best_params_ {'bootstrap': True, 'criterion': 'gini', 'max_depth': None, 'max_features': 4, 'min_samples_leaf': 5, 'min_samples_split': 6, 'n_estimators': 384}\n",
      "best_score_  0.7911249803736851\n",
      "Coefficients not saved\n"
     ]
    },
    {
     "name": "stderr",
     "output_type": "stream",
     "text": [
      "                                                  \r"
     ]
    },
    {
     "name": "stdout",
     "output_type": "stream",
     "text": [
      "Test AUC: 0.778 (0.751, 0.806)\n",
      "Test predictions saved to output/ICD[0,1].RF.test.npz\n"
     ]
    }
   ],
   "source": [
    "train_model(Xtr, ytr, Xte, yte, 'RF', 'ICD[0,1]')"
   ]
  },
  {
   "cell_type": "markdown",
   "metadata": {},
   "source": [
    "### ICD [0,1,2]"
   ]
  },
  {
   "cell_type": "code",
   "execution_count": 19,
   "metadata": {},
   "outputs": [],
   "source": [
    "import sparse\n",
    "X = sparse.load_npz('output.icd[0,1,2]/s.npz').todense()"
   ]
  },
  {
   "cell_type": "code",
   "execution_count": 20,
   "metadata": {},
   "outputs": [
    {
     "data": {
      "text/plain": [
       "(19723, 314)"
      ]
     },
     "execution_count": 20,
     "metadata": {},
     "output_type": "execute_result"
    }
   ],
   "source": [
    "X.shape"
   ]
  },
  {
   "cell_type": "code",
   "execution_count": 21,
   "metadata": {},
   "outputs": [
    {
     "name": "stdout",
     "output_type": "stream",
     "text": [
      "(13865, 314) (13865,) (2928, 314) (2928,)\n"
     ]
    }
   ],
   "source": [
    "Xtr = X[df.partition==\"train\"]\n",
    "ytr = df[df.partition==\"train\"]['label']\n",
    "Xte = X[df.partition==\"test\"]\n",
    "yte = df[df.partition==\"test\"]['label']\n",
    "print(Xtr.shape, ytr.shape, Xte.shape, yte.shape)"
   ]
  },
  {
   "cell_type": "code",
   "execution_count": 22,
   "metadata": {},
   "outputs": [
    {
     "name": "stdout",
     "output_type": "stream",
     "text": [
      "Fitting 5 folds for each of 50 candidates, totalling 250 fits\n"
     ]
    },
    {
     "name": "stderr",
     "output_type": "stream",
     "text": [
      "[Parallel(n_jobs=12)]: Using backend LokyBackend with 12 concurrent workers.\n",
      "[Parallel(n_jobs=12)]: Done  17 tasks      | elapsed:    3.5s\n",
      "[Parallel(n_jobs=12)]: Done 138 tasks      | elapsed:   15.9s\n",
      "[Parallel(n_jobs=12)]: Done 250 out of 250 | elapsed:   25.0s finished\n",
      "  0%|          | 0/1000 [00:00<?, ?it/s]"
     ]
    },
    {
     "name": "stdout",
     "output_type": "stream",
     "text": [
      "best_params_ {'C': 0.039362167558821506}\n",
      "best_score_  0.8176147686510381\n"
     ]
    },
    {
     "name": "stderr",
     "output_type": "stream",
     "text": [
      "                                                  \r"
     ]
    },
    {
     "name": "stdout",
     "output_type": "stream",
     "text": [
      "Test AUC: 0.795 (0.767, 0.820)\n",
      "Test predictions saved to output/ICD[0,1,2].LR.test.npz\n"
     ]
    }
   ],
   "source": [
    "train_model(Xtr, ytr, Xte, yte, 'LR', 'ICD[0,1,2]')"
   ]
  },
  {
   "cell_type": "code",
   "execution_count": 23,
   "metadata": {},
   "outputs": [
    {
     "name": "stdout",
     "output_type": "stream",
     "text": [
      "Fitting 5 folds for each of 50 candidates, totalling 250 fits\n"
     ]
    },
    {
     "name": "stderr",
     "output_type": "stream",
     "text": [
      "[Parallel(n_jobs=12)]: Using backend LokyBackend with 12 concurrent workers.\n",
      "[Parallel(n_jobs=12)]: Done  17 tasks      | elapsed:    8.9s\n",
      "/data4/tangsp/venv/lib/python3.7/site-packages/joblib/externals/loky/process_executor.py:706: UserWarning: A worker stopped while some jobs were given to the executor. This can be caused by a too short worker timeout or by a memory leak.\n",
      "  \"timeout or by a memory leak.\", UserWarning\n",
      "[Parallel(n_jobs=12)]: Done 138 tasks      | elapsed:  2.7min\n",
      "[Parallel(n_jobs=12)]: Done 250 out of 250 | elapsed:  8.4min finished\n"
     ]
    },
    {
     "name": "stdout",
     "output_type": "stream",
     "text": [
      "best_params_ {'bootstrap': True, 'criterion': 'entropy', 'max_depth': None, 'max_features': 59, 'min_samples_leaf': 8, 'min_samples_split': 7, 'n_estimators': 391}\n",
      "best_score_  0.8153834076113868\n",
      "Coefficients not saved\n"
     ]
    },
    {
     "name": "stderr",
     "output_type": "stream",
     "text": [
      "                                                  \r"
     ]
    },
    {
     "name": "stdout",
     "output_type": "stream",
     "text": [
      "Test AUC: 0.799 (0.771, 0.825)\n",
      "Test predictions saved to output/ICD[0,1,2].RF.test.npz\n"
     ]
    }
   ],
   "source": [
    "train_model(Xtr, ytr, Xte, yte, 'RF', 'ICD[0,1,2]')"
   ]
  },
  {
   "cell_type": "code",
   "execution_count": null,
   "metadata": {},
   "outputs": [],
   "source": []
  }
 ],
 "metadata": {
  "kernelspec": {
   "display_name": "Python 3",
   "language": "python",
   "name": "python3"
  },
  "language_info": {
   "codemirror_mode": {
    "name": "ipython",
    "version": 3
   },
   "file_extension": ".py",
   "mimetype": "text/x-python",
   "name": "python",
   "nbconvert_exporter": "python",
   "pygments_lexer": "ipython3",
   "version": "3.7.4"
  }
 },
 "nbformat": 4,
 "nbformat_minor": 4
}
